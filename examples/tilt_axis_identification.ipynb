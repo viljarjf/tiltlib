{
 "cells": [
  {
   "cell_type": "markdown",
   "metadata": {},
   "source": [
    "# Tilt axis identification\n",
    "\n",
    "This notebook will show an example of how to identify the tilt axis of a sample holder, by means of a tilt series.\n",
    "\n",
    "For this, you will need a tilt series of a sample, meaning the same sample scanned (and subsequently orientation mapped) at multiple different tilt angles.\n",
    "\n",
    "For this tutorial, Orix's example dataset will be used, artificially tilted and with some added noise.\n",
    "The noise is not meant to emulate the kind of orientation discrepancies expected from a real tilt series, but rather as a way to show a certain level of robustness."
   ]
  },
  {
   "cell_type": "code",
   "execution_count": 1,
   "metadata": {},
   "outputs": [],
   "source": [
    "# Import the necessary packages\n",
    "%matplotlib inline\n",
    "from matplotlib import pyplot as plt\n",
    "from orix.vector import Vector3d\n",
    "from scipy.optimize import minimize\n",
    "import numpy as np\n",
    "from orix.quaternion import Rotation\n",
    "from itertools import combinations\n",
    "\n",
    "import tiltlib"
   ]
  },
  {
   "cell_type": "markdown",
   "metadata": {},
   "source": [
    "## Fabricating data\n",
    "\n",
    "In this section, a tilt series is fabricated from one of Orix's example datasets.\n",
    "\n",
    "If you have your own tilt series, you can skip this cell, and replace the `xmaps` list with a list of your own scans as `CrystalMap`-objects"
   ]
  },
  {
   "cell_type": "code",
   "execution_count": 2,
   "metadata": {},
   "outputs": [
    {
     "data": {
      "text/plain": [
       "[Phase    Orientations       Name  Space group  Point group  Proper point group     Color\n",
       "     0  11700 (100.0%)  austenite         None         m-3m                 432  tab:blue\n",
       " Properties: AvDotProductMap, CI, IQ, ISM, KAM, OSM, RefinedDotProducts, TopDotProductList, TopMatchIndices\n",
       " Scan unit: um,\n",
       " Phase    Orientations       Name  Space group  Point group  Proper point group     Color\n",
       "     0  11700 (100.0%)  austenite         None         m-3m                 432  tab:blue\n",
       " Properties: AvDotProductMap, CI, IQ, ISM, KAM, OSM, RefinedDotProducts, TopDotProductList, TopMatchIndices\n",
       " Scan unit: um,\n",
       " Phase    Orientations       Name  Space group  Point group  Proper point group     Color\n",
       "     0  11700 (100.0%)  austenite         None         m-3m                 432  tab:blue\n",
       " Properties: AvDotProductMap, CI, IQ, ISM, KAM, OSM, RefinedDotProducts, TopDotProductList, TopMatchIndices\n",
       " Scan unit: um,\n",
       " Phase    Orientations       Name  Space group  Point group  Proper point group     Color\n",
       "     0  11700 (100.0%)  austenite         None         m-3m                 432  tab:blue\n",
       " Properties: AvDotProductMap, CI, IQ, ISM, KAM, OSM, RefinedDotProducts, TopDotProductList, TopMatchIndices\n",
       " Scan unit: um]"
      ]
     },
     "execution_count": 2,
     "metadata": {},
     "output_type": "execute_result"
    }
   ],
   "source": [
    "# Make some fake tilt series data\n",
    "from orix.data import sdss_austenite\n",
    "\n",
    "# This is the raw data we will use\n",
    "raw_xmap = sdss_austenite(allow_download=True)\n",
    "\n",
    "# Arbitrarily choose the tilt axis direction. Should lie in or close to the xy-plane\n",
    "axis_direction = Vector3d.xvector().rotate(Vector3d.zvector(), np.deg2rad(30))\n",
    "\n",
    "# Choose a couple tilt angles\n",
    "tilt_angles = [0, -10, 5, 15] # degrees\n",
    "\n",
    "# Make a couple xmaps at the different tilt angles\n",
    "xmaps = [raw_xmap.deepcopy() for _ in tilt_angles]\n",
    "for xmap, tilt_angle in zip(xmaps, tilt_angles):\n",
    "\n",
    "    # Manually modify the rotations with a rotation\n",
    "    xmap._rotations[...] *= ~Rotation.from_axes_angles(axis_direction, tilt_angle, degrees=True)\n",
    "\n",
    "    # Add some noise to every scan, at different intervals\n",
    "    s = slice(None, None, np.random.randint(4, 10))\n",
    "    xmap._rotations[s] *= Rotation.random(xmap._rotations.shape)[s]\n",
    "\n",
    "xmaps"
   ]
  },
  {
   "cell_type": "markdown",
   "metadata": {},
   "source": [
    "## Fitness function\n",
    "\n",
    "To find which axis angle fits best, we need to be able to determine whether an axis position works well or not.\n",
    "Here, we assume the samples are tilted along a given axis. We then compare each possible combination of scans, all rotated to 0 degrees tilt angle.\n",
    "E.g. if one scan is tilted 5 degrees, one 10, and one 15, we virtually tilt all of them to 0 degrees, and we compare them all, pixel by pixel.\n",
    "With all of these misorientation angles, we calculate the mean misorientation angle of the bottom third angles, to account for noise.\n",
    "\n",
    "This fitness function is quite robust, as it compares all pixels throughout the entire scan, for all possible combinations of scans.\n",
    "However, this makes it rather slow. One function evaluation takes around 2-3 seconds on a 4GHz AMD Ryzen 3900X processor.\n",
    "Other fitness functions may provide faster computations."
   ]
  },
  {
   "cell_type": "code",
   "execution_count": 9,
   "metadata": {},
   "outputs": [],
   "source": [
    "def fitness(axis_angle: float):\n",
    "    # Note the single input angle, as we assume the axis lies in the xy-plane, perpendicular to the optical axis.\n",
    "\n",
    "    axis_direction = Vector3d.xvector().rotate(Vector3d.zvector(), np.deg2rad(axis_angle))\n",
    "\n",
    "    samples: list[tiltlib.Sample] = []\n",
    "    for xmap, angle in zip(xmaps, tilt_angles):\n",
    "        s = tiltlib.Sample(xmap, [tiltlib.Axis(axis_direction, -30, 30, angle=angle, degrees=True)])\n",
    "        s.rotate_to(0)\n",
    "        samples.append(s)\n",
    "\n",
    "    misorientation_angles = []\n",
    "    \n",
    "    for sample_a, sample_b in combinations(samples, 2):\n",
    "        misorientation_angles.append(sample_a.orientations.angle_with(sample_b.orientations, degrees=True))\n",
    "    misorientation_angles = np.array(misorientation_angles).flatten()\n",
    "    \n",
    "    # Choose the bottom third misorientation angles, as most of the large angles are probably due to noise / misindexation\n",
    "    k = misorientation_angles.size // 3\n",
    "    return np.mean(np.partition(misorientation_angles, k, axis=None)[:k])\n"
   ]
  },
  {
   "cell_type": "markdown",
   "metadata": {},
   "source": [
    "## Performing the optimization\n",
    "At this point, using e.g. `scipy.optimize.minimize` should yield the tilt axis position.\n",
    "Additionally, we make a plot of the fitness score along a full rotation of axis positions, to show that the minima is indeed global."
   ]
  },
  {
   "cell_type": "code",
   "execution_count": 10,
   "metadata": {},
   "outputs": [
    {
     "data": {
      "text/plain": [
       "  message: CONVERGENCE: REL_REDUCTION_OF_F_<=_FACTR*EPSMCH\n",
       "  success: True\n",
       "   status: 0\n",
       "      fun: 0.00011030830627850421\n",
       "        x: [ 3.000e+01]\n",
       "      nit: 4\n",
       "      jac: [ 3.522e-02]\n",
       "     nfev: 54\n",
       "     njev: 27\n",
       " hess_inv: <1x1 LbfgsInvHessProduct with dtype=float64>"
      ]
     },
     "execution_count": 10,
     "metadata": {},
     "output_type": "execute_result"
    }
   ],
   "source": [
    "res = minimize(\n",
    "    fitness,\n",
    "    0,\n",
    "    bounds=((-180, 180),),\n",
    ")\n",
    "res"
   ]
  },
  {
   "cell_type": "code",
   "execution_count": 11,
   "metadata": {},
   "outputs": [
    {
     "name": "stderr",
     "output_type": "stream",
     "text": [
      "  0%|          | 0/180 [00:00<?, ?it/s]"
     ]
    },
    {
     "name": "stderr",
     "output_type": "stream",
     "text": [
      "100%|██████████| 180/180 [07:58<00:00,  2.66s/it]\n"
     ]
    },
    {
     "data": {
      "text/plain": [
       "Text(0, 0.5, 'Score')"
      ]
     },
     "execution_count": 11,
     "metadata": {},
     "output_type": "execute_result"
    },
    {
     "data": {
      "image/png": "[encoded data removed]",
      "text/plain": [
       "<Figure size 640x480 with 1 Axes>"
      ]
     },
     "metadata": {},
     "output_type": "display_data"
    }
   ],
   "source": [
    "# We use tqdm to get a nice progress bar, as this is quite slow\n",
    "from tqdm import tqdm\n",
    "\n",
    "plt.figure()\n",
    "plt.title(\"Fitness score\")\n",
    "\n",
    "angles = np.linspace(-180, 180, 180)\n",
    "fitness_scores = [fitness(ang) for ang in tqdm(angles)]\n",
    "\n",
    "plt.plot(angles, fitness_scores)\n",
    "plt.xlabel(\"Tilt axis position [deg]\")\n",
    "plt.ylabel(\"Score\")"
   ]
  },
  {
   "cell_type": "markdown",
   "metadata": {},
   "source": [
    "From both the optimization and from manually inspecting the graph, we see the angle of the tilt axis with the x-axis is 30 degrees, as we set it to initially."
   ]
  }
 ],
 "metadata": {
  "kernelspec": {
   "display_name": ".venv",
   "language": "python",
   "name": "python3"
  },
  "language_info": {
   "codemirror_mode": {
    "name": "ipython",
    "version": 3
   },
   "file_extension": ".py",
   "mimetype": "text/x-python",
   "name": "python",
   "nbconvert_exporter": "python",
   "pygments_lexer": "ipython3",
   "version": "3.10.11"
  }
 },
 "nbformat": 4,
 "nbformat_minor": 2
}
